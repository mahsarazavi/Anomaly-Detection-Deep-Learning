{
  "nbformat": 4,
  "nbformat_minor": 0,
  "metadata": {
    "kernelspec": {
      "display_name": "Python 2",
      "language": "python",
      "name": "python2"
    },
    "language_info": {
      "codemirror_mode": {
        "name": "ipython",
        "version": 2
      },
      "file_extension": ".py",
      "mimetype": "text/x-python",
      "name": "python",
      "nbconvert_exporter": "python",
      "pygments_lexer": "ipython2",
      "version": "2.7.11"
    },
    "colab": {
      "name": "My_Thesis_Part2.ipynb",
      "provenance": [],
      "collapsed_sections": []
    }
  },
  "cells": [
    {
      "cell_type": "code",
      "metadata": {
        "id": "SQPdDyUHEBhk",
        "colab_type": "code",
        "colab": {},
        "cellView": "form"
      },
      "source": [
        "#@title Installing netaddr\n",
        "!pip install netaddr"
      ],
      "execution_count": null,
      "outputs": []
    },
    {
      "cell_type": "markdown",
      "metadata": {
        "id": "SCkr8tPwW8eh",
        "colab_type": "text"
      },
      "source": [
        "# Importing libraries"
      ]
    },
    {
      "cell_type": "code",
      "metadata": {
        "id": "wkzlEqqdW79S",
        "colab_type": "code",
        "colab": {}
      },
      "source": [
        "import re\n",
        "import sys\n",
        "import netaddr\n",
        "%matplotlib notebook\n",
        "import matplotlib.pyplot as plt\n",
        "import pandas as pd\n",
        "from sklearn.neighbors import KNeighborsClassifier\n",
        "from sklearn import linear_model\n",
        "from sklearn import svm\n",
        "from sklearn.model_selection import train_test_split\n",
        "import numpy as np\n",
        "from sklearn import tree, linear_model\n",
        "%matplotlib inline"
      ],
      "execution_count": null,
      "outputs": []
    },
    {
      "cell_type": "markdown",
      "metadata": {
        "id": "XRAaUm6RXC8R",
        "colab_type": "text"
      },
      "source": [
        "# Reading log files"
      ]
    },
    {
      "cell_type": "code",
      "metadata": {
        "id": "ysimiWdmXCPI",
        "colab_type": "code",
        "colab": {}
      },
      "source": [
        "# Source Access Log file - Text Format\n",
        "log_file = \"/content/drive/My Drive/access-2019-05-06.log\"\n",
        "\n",
        "# Destination CSV file with labels\n",
        "dest_file = \"/content/drive/My Drive/access-2019-05-06.csv\""
      ],
      "execution_count": null,
      "outputs": []
    },
    {
      "cell_type": "markdown",
      "metadata": {
        "id": "QqQsCmB4XIER",
        "colab_type": "text"
      },
      "source": [
        "# Retrieving data form a a http log file (access_log)"
      ]
    },
    {
      "cell_type": "code",
      "metadata": {
        "id": "nf_s-ZzODfCS",
        "colab_type": "code",
        "colab": {
          "base_uri": "https://localhost:8080/",
          "height": 765
        },
        "outputId": "42d1633b-0be2-48ac-c8d0-5fadaea9ab92"
      },
      "source": [
        "def extract_data(log_file):\n",
        "    regex = '([(\\d\\.)]+) - - \\[(.*?)\\] \"(.*?)\" (\\d+) (.+) \"(.*?)\" \"(.*?)\"'\n",
        "    data = {}\n",
        "\n",
        "    log_file = open(log_file, 'r')\n",
        "\n",
        "    for log_line in log_file:\n",
        "        log_line=log_line.replace(',','_')\n",
        "        \n",
        "        log_line = re.match(regex,log_line).groups()\n",
        "        \n",
        "        size = str(log_line[4]).rstrip('\\n')\n",
        "\n",
        "        ip_addr = log_line[0]        \n",
        "        ip = netaddr.IPAddress(ip_addr)        \n",
        "        ip_addr_num = ip.value\n",
        "        \n",
        "        data_size = int(size)\n",
        "        \n",
        "        return_code = log_line[3]\n",
        "\n",
        "        url = log_line[2]\n",
        "\n",
        "        param_number = len(url.split('&'))\n",
        "\n",
        "        url_length = len(url)\n",
        "\n",
        "        if '-' in size:\n",
        "            data_size = 0\n",
        "        else:\n",
        "            data_size = int(size)\n",
        "\n",
        "        if (int(return_code) > 0):\n",
        "            charcs = {}\n",
        "            charcs['ip_addr'] = ip_addr\n",
        "            charcs['ip_addr_num'] = ip_addr_num\n",
        "            charcs['data_size'] = int(data_size)\n",
        "            charcs['param_number'] = int(param_number)\n",
        "            charcs['length'] = int(url_length)\n",
        "            charcs['return_code'] = int(return_code)\n",
        "            data[url] = charcs        \n",
        "    return data\n",
        "\n",
        "\n",
        "# Label data by adding a new column with two possible values:\n",
        "# label as 1 for attack or suspecious activity and 0 for normal behaviour\n",
        "\n",
        "def label_data(data,labeled_data):\n",
        "    \n",
        "    for w in data:\n",
        "\n",
        "                \n",
        "        attack = '0'\n",
        "        attack_label = 'No'\n",
        "\n",
        "        # Pattrns for identifying Injections - Can add more patterns\n",
        "        patterns = ['honeypot', '%3b', 'xss', 'sql', '%3c', '%3e', 'eval', 'select', '1=1', 'update', 'union', 'delete']\n",
        "\n",
        "        # Black Listed example IP addresses        \n",
        "                \n",
        "        black_ips = ['222.186.20.115', '127.0.0.1']\n",
        "        \n",
        "        if any(pattern in w.lower() for pattern in patterns):\n",
        "            print \"Injection pattern identified\"\n",
        "            attack = '1'\n",
        "            attack_label = 'Yes'\n",
        "\n",
        "        if any(blackip in (data[w]['ip_addr']) for blackip in black_ips):\n",
        "            print \"Black IP Address Matched\"\n",
        "            attack = '1'\n",
        "            attack_label = 'Yes'\n",
        "        \n",
        "        if data[w]['data_size'] > 1000000 :\n",
        "            print \"Request Served Having more than 1000000 Bytes of data than set limit\"\n",
        "            attack = '1'\n",
        "            attack_label = 'Yes'\n",
        "\n",
        "        data_row = str(data[w]['ip_addr'])+ ',' + str(data[w]['ip_addr_num'])+ ',' + str(data[w]['data_size']) + ',' + str(data[w]['length']) + ',' + str(data[w]['param_number']) + ',' + str(data[w]['return_code']) + ',' + attack + ','+ attack_label + ',' + w + '\\n'\n",
        "\n",
        "        labeled_data.write(data_row)\n",
        "    print str(len(data)) + ' rows have successfully saved with labels to ' + dest_file\n",
        "    \n",
        "    \n",
        "\n",
        "label_data(extract_data(log_file),open(dest_file, 'w'))\n"
      ],
      "execution_count": null,
      "outputs": [
        {
          "output_type": "stream",
          "text": [
            "Request Served Having more than 1000000 Bytes of data than set limit\n",
            "Injection pattern identified\n",
            "Injection pattern identified\n",
            "Request Served Having more than 1000000 Bytes of data than set limit\n",
            "Injection pattern identified\n",
            "Injection pattern identified\n",
            "Injection pattern identified\n",
            "Injection pattern identified\n",
            "Injection pattern identified\n",
            "Injection pattern identified\n",
            "Injection pattern identified\n",
            "Request Served Having more than 1000000 Bytes of data than set limit\n",
            "Injection pattern identified\n",
            "Request Served Having more than 1000000 Bytes of data than set limit\n",
            "Injection pattern identified\n",
            "Injection pattern identified\n",
            "Injection pattern identified\n",
            "Request Served Having more than 1000000 Bytes of data than set limit\n",
            "Injection pattern identified\n",
            "Request Served Having more than 1000000 Bytes of data than set limit\n",
            "Injection pattern identified\n",
            "Injection pattern identified\n",
            "Injection pattern identified\n",
            "Injection pattern identified\n",
            "Injection pattern identified\n",
            "Injection pattern identified\n",
            "Injection pattern identified\n",
            "Injection pattern identified\n",
            "Request Served Having more than 1000000 Bytes of data than set limit\n",
            "Injection pattern identified\n",
            "Injection pattern identified\n",
            "Injection pattern identified\n",
            "Injection pattern identified\n",
            "Injection pattern identified\n",
            "Request Served Having more than 1000000 Bytes of data than set limit\n",
            "Injection pattern identified\n",
            "Injection pattern identified\n",
            "Request Served Having more than 1000000 Bytes of data than set limit\n",
            "Injection pattern identified\n",
            "706 rows have successfully saved with labels to /content/drive/My Drive/access-2019-05-06.csv\n"
          ],
          "name": "stdout"
        }
      ]
    },
    {
      "cell_type": "markdown",
      "metadata": {
        "id": "SB_azwbBXjZN",
        "colab_type": "text"
      },
      "source": [
        "# Looking for Sample Records after Conversion"
      ]
    },
    {
      "cell_type": "code",
      "metadata": {
        "id": "OVFCGvirDfCi",
        "colab_type": "code",
        "colab": {
          "base_uri": "https://localhost:8080/",
          "height": 400
        },
        "outputId": "92caaf60-cae0-4602-9572-fbf5f802efd3"
      },
      "source": [
        "logs1  = pd.read_csv(\"/content/drive/My Drive/access-2019-05-06.csv\", names=['ip', 'ip_num', 'data_size','url_len', 'parameters_no','return_code','attack','attack_label','url_req'])\n",
        "logs1.head()"
      ],
      "execution_count": null,
      "outputs": [
        {
          "output_type": "execute_result",
          "data": {
            "text/html": [
              "<div>\n",
              "<style scoped>\n",
              "    .dataframe tbody tr th:only-of-type {\n",
              "        vertical-align: middle;\n",
              "    }\n",
              "\n",
              "    .dataframe tbody tr th {\n",
              "        vertical-align: top;\n",
              "    }\n",
              "\n",
              "    .dataframe thead th {\n",
              "        text-align: right;\n",
              "    }\n",
              "</style>\n",
              "<table border=\"1\" class=\"dataframe\">\n",
              "  <thead>\n",
              "    <tr style=\"text-align: right;\">\n",
              "      <th></th>\n",
              "      <th>ip</th>\n",
              "      <th>ip_num</th>\n",
              "      <th>data_size</th>\n",
              "      <th>url_len</th>\n",
              "      <th>parameters_no</th>\n",
              "      <th>return_code</th>\n",
              "      <th>attack</th>\n",
              "      <th>attack_label</th>\n",
              "      <th>url_req</th>\n",
              "    </tr>\n",
              "  </thead>\n",
              "  <tbody>\n",
              "    <tr>\n",
              "      <th>0</th>\n",
              "      <td>157.55.39.202</td>\n",
              "      <td>2637637578</td>\n",
              "      <td>4460</td>\n",
              "      <td>53</td>\n",
              "      <td>1</td>\n",
              "      <td>200</td>\n",
              "      <td>0</td>\n",
              "      <td>No</td>\n",
              "      <td>GET /self.logs/2015/access.log.2015-10-25.gz H...</td>\n",
              "    </tr>\n",
              "    <tr>\n",
              "      <th>1</th>\n",
              "      <td>54.36.148.112</td>\n",
              "      <td>908366960</td>\n",
              "      <td>284</td>\n",
              "      <td>47</td>\n",
              "      <td>1</td>\n",
              "      <td>404</td>\n",
              "      <td>0</td>\n",
              "      <td>No</td>\n",
              "      <td>GET /self.logs/error.log.2016-12-18.gz HTTP/1.1</td>\n",
              "    </tr>\n",
              "    <tr>\n",
              "      <th>2</th>\n",
              "      <td>40.77.167.207</td>\n",
              "      <td>676177871</td>\n",
              "      <td>545</td>\n",
              "      <td>48</td>\n",
              "      <td>1</td>\n",
              "      <td>301</td>\n",
              "      <td>0</td>\n",
              "      <td>No</td>\n",
              "      <td>GET /self.logs/access.log.2017-07-02.gz HTTP/1.1</td>\n",
              "    </tr>\n",
              "    <tr>\n",
              "      <th>3</th>\n",
              "      <td>13.66.139.0</td>\n",
              "      <td>222464768</td>\n",
              "      <td>39779</td>\n",
              "      <td>48</td>\n",
              "      <td>1</td>\n",
              "      <td>200</td>\n",
              "      <td>0</td>\n",
              "      <td>No</td>\n",
              "      <td>GET /self.logs/access.log.2018-06-29.gz HTTP/1.1</td>\n",
              "    </tr>\n",
              "    <tr>\n",
              "      <th>4</th>\n",
              "      <td>157.55.39.157</td>\n",
              "      <td>2637637533</td>\n",
              "      <td>1879</td>\n",
              "      <td>52</td>\n",
              "      <td>1</td>\n",
              "      <td>200</td>\n",
              "      <td>0</td>\n",
              "      <td>No</td>\n",
              "      <td>GET /self.logs/2016/error.log.2016-11-27.gz HT...</td>\n",
              "    </tr>\n",
              "  </tbody>\n",
              "</table>\n",
              "</div>"
            ],
            "text/plain": [
              "              ip  ...                                            url_req\n",
              "0  157.55.39.202  ...  GET /self.logs/2015/access.log.2015-10-25.gz H...\n",
              "1  54.36.148.112  ...    GET /self.logs/error.log.2016-12-18.gz HTTP/1.1\n",
              "2  40.77.167.207  ...   GET /self.logs/access.log.2017-07-02.gz HTTP/1.1\n",
              "3    13.66.139.0  ...   GET /self.logs/access.log.2018-06-29.gz HTTP/1.1\n",
              "4  157.55.39.157  ...  GET /self.logs/2016/error.log.2016-11-27.gz HT...\n",
              "\n",
              "[5 rows x 9 columns]"
            ]
          },
          "metadata": {
            "tags": []
          },
          "execution_count": 8
        }
      ]
    },
    {
      "cell_type": "code",
      "metadata": {
        "id": "9BKamDVIDfCq",
        "colab_type": "code",
        "colab": {
          "base_uri": "https://localhost:8080/",
          "height": 36
        },
        "outputId": "c56b3b00-befe-4ccb-86da-cf2fdcb817b8"
      },
      "source": [
        "# create a mapping from logs label value for making results easier to interpret\n",
        "lookup_logs_type = dict(zip(logs1.attack.unique(), logs1.attack_label.unique()))   \n",
        "lookup_logs_type"
      ],
      "execution_count": null,
      "outputs": [
        {
          "output_type": "execute_result",
          "data": {
            "text/plain": [
              "{0: 'No', 1: 'Yes'}"
            ]
          },
          "metadata": {
            "tags": []
          },
          "execution_count": 9
        }
      ]
    },
    {
      "cell_type": "markdown",
      "metadata": {
        "id": "bU9nWHjIXoXC",
        "colab_type": "text"
      },
      "source": [
        "# Run KNN and Decision tree classifiers"
      ]
    },
    {
      "cell_type": "code",
      "metadata": {
        "id": "36GutAG5DfCx",
        "colab_type": "code",
        "colab": {
          "base_uri": "https://localhost:8080/",
          "height": 410
        },
        "outputId": "bbcc3f89-16b4-4f27-d755-3271c5b5ddd4"
      },
      "source": [
        "access-2019-05-06.csv# Parameters Setting & Accuracy Score demo using Train Test Split for Supervised ML Algos\n",
        "\n",
        "X = logs1[['ip_num', 'data_size', 'url_len', 'parameters_no', 'return_code']]\n",
        "y = logs1['attack_label']\n",
        "\n",
        "\n",
        "# Trian Test Split - TTSplit\n",
        "# Default is 75% / 25% train-test split\n",
        "X_train, X_test, y_train, y_test = train_test_split(X, y, random_state=0)\n",
        "\n",
        "# KNN  Algo\n",
        "print \"\\n\\n=-=-=-=-=-=- KNN Classifier -=-=-=-=-=-=-\\n\"\n",
        "knn = KNeighborsClassifier(n_neighbors = 3)\n",
        "print knn.fit(X_train, y_train)\n",
        "print 'KNN Accuracy Score =>' \n",
        "print knn.score(X_test, y_test)\n",
        "\n",
        "\n",
        "# 2-DECISON TREE Algo\n",
        "print \"\\n\\n=-=-=-=-=-=- Decision Tree Classifier -=-=-=-=-=-=-\\n\"\n",
        "dt = tree.DecisionTreeClassifier()\n",
        "print dt.fit(X_train, y_train)\n",
        "print 'Decision Tree Accuracy Score =>' \n",
        "print dt.score(X_test, y_test)\n",
        "\n"
      ],
      "execution_count": null,
      "outputs": [
        {
          "output_type": "stream",
          "text": [
            "\n",
            "\n",
            "=-=-=-=-=-=- KNN Classifier -=-=-=-=-=-=-\n",
            "\n",
            "KNeighborsClassifier(algorithm='auto', leaf_size=30, metric='minkowski',\n",
            "           metric_params=None, n_jobs=None, n_neighbors=3, p=2,\n",
            "           weights='uniform')\n",
            "KNN Accuracy Score =>\n",
            "0.9265536723163842\n",
            "\n",
            "\n",
            "=-=-=-=-=-=- Decision Tree Classifier -=-=-=-=-=-=-\n",
            "\n",
            "DecisionTreeClassifier(class_weight=None, criterion='gini', max_depth=None,\n",
            "            max_features=None, max_leaf_nodes=None,\n",
            "            min_impurity_decrease=0.0, min_impurity_split=None,\n",
            "            min_samples_leaf=1, min_samples_split=2,\n",
            "            min_weight_fraction_leaf=0.0, presort=False, random_state=None,\n",
            "            splitter='best')\n",
            "Decision Tree Accuracy Score =>\n",
            "0.943502824858757\n"
          ],
          "name": "stdout"
        }
      ]
    },
    {
      "cell_type": "code",
      "metadata": {
        "id": "itEISI0eDfC6",
        "colab_type": "code",
        "colab": {
          "base_uri": "https://localhost:8080/",
          "height": 36
        },
        "outputId": "260ac54c-740d-43dc-d55c-2be3ff0abf66"
      },
      "source": [
        "def get_data_details(csv_data):\n",
        "        data = np.genfromtxt(csv_data, delimiter = \",\")\n",
        "                \n",
        "        features = data[:, [1,2,3,4,5]]\n",
        "        labels = data[:, 6]\n",
        "        \n",
        "        \n",
        "        return features, labels\n",
        "\n",
        "def get_occuracy(real_labels, predicted_labels, fltr):\n",
        "        real_label_count = 0.0\n",
        "        predicted_label_count = 0.0\n",
        "\n",
        "        for real_label in real_labels:\n",
        "                if real_label == fltr:\n",
        "                        real_label_count += 1\n",
        "\n",
        "        for predicted_label in predicted_labels:\n",
        "                if predicted_label == fltr:\n",
        "                        predicted_label_count += 1\n",
        "\n",
        "        print \"Real number of attacks: \" + str(real_label_count)\n",
        "        print \"Predicted number of attacks: \" + str(predicted_label_count)\n",
        "\n",
        "        precision = predicted_label_count * 100 / real_label_count\n",
        "        return precision\n",
        "print \"Done This\""
      ],
      "execution_count": null,
      "outputs": [
        {
          "output_type": "stream",
          "text": [
            "Done This\n"
          ],
          "name": "stdout"
        }
      ]
    },
    {
      "cell_type": "code",
      "metadata": {
        "id": "LHle4a3gDfDG",
        "colab_type": "code",
        "colab": {
          "base_uri": "https://localhost:8080/",
          "height": 279
        },
        "outputId": "6625c8cc-f629-42d9-e131-a5f94ed3be18"
      },
      "source": [
        "# Supervised Learning - Train and Predict on Same File\n",
        "# Demo of supervised  ML Algos to predict intrusion/suspecious activities in http logs\n",
        "\n",
        "traning_data = \"/content/drive/My Drive/access-2019-05-06.csv\"\n",
        "testing_data = \"/content/drive/My Drive/access-2019-05-01.csv\"\n",
        "\n",
        "\n",
        "# Get training features and labeles\n",
        "training_features, traning_labels = get_data_details(traning_data)\n",
        "\n",
        "# Get testing features and labels\n",
        "testing_features, testing_labels = get_data_details(testing_data)\n",
        "\n",
        "\n",
        "# 1-KNN  Algo\n",
        "print \"\\n\\n=-=-=-=-=-=-=- KNN Classifier -=-=-=-=-=-=-=-\\n\"\n",
        "\n",
        "# Instanciate the classifier\n",
        "attack_classifier = KNeighborsClassifier(n_neighbors=3)\n",
        "# Train the classifier\n",
        "attack_classifier = attack_classifier.fit(training_features, traning_labels)\n",
        "# Get predections for the testing data\n",
        "predictions = attack_classifier.predict(testing_features)\n",
        "print \"The precision of the KNN Classifier is: \" + str(get_occuracy(testing_labels,predictions, 1)) + \"%\"\n",
        "\n",
        "\n",
        "# 2-DECISON TREE Algo\n",
        "print \"\\n\\n=-=-=-=-=-=- Decision Tree Classifier -=-=-=-=-=-=-\\n\"\n",
        "\n",
        "# Instanciate the classifier\n",
        "attack_classifier1 = tree.DecisionTreeClassifier()\n",
        "# Train the classifier\n",
        "attack_classifier1 = attack_classifier1.fit(training_features, traning_labels)\n",
        "# Get predections for the testing data\n",
        "predictions1 = attack_classifier1.predict(testing_features)\n",
        "print \"The precision of the Decision Tree Classifier is: \" + str(get_occuracy(testing_labels,predictions1, 1)) + \"%\"\n"
      ],
      "execution_count": null,
      "outputs": [
        {
          "output_type": "stream",
          "text": [
            "\n",
            "\n",
            "=-=-=-=-=-=-=- KNN Classifier -=-=-=-=-=-=-=-\n",
            "\n",
            "Real number of attacks: 30.0\n",
            "Predicted number of attacks: 6.0\n",
            "The precision of the KNN Classifier is: 20.0%\n",
            "\n",
            "\n",
            "=-=-=-=-=-=- Decision Tree Classifier -=-=-=-=-=-=-\n",
            "\n",
            "Real number of attacks: 30.0\n",
            "Predicted number of attacks: 27.0\n",
            "The precision of the Decision Tree Classifier is: 90.0%\n"
          ],
          "name": "stdout"
        }
      ]
    },
    {
      "cell_type": "markdown",
      "metadata": {
        "id": "DXrg0-PTX0C5",
        "colab_type": "text"
      },
      "source": [
        "# Accuracy Plot for Different Values of K in KNN"
      ]
    },
    {
      "cell_type": "code",
      "metadata": {
        "id": "UMiKlgHUDfDR",
        "colab_type": "code",
        "colab": {
          "base_uri": "https://localhost:8080/",
          "height": 498
        },
        "outputId": "2961d206-2672-4ea4-c0a2-ed24cc52fefb"
      },
      "source": [
        "k_range = range(1,20)\n",
        "scores = []\n",
        "\n",
        "for k in k_range:\n",
        "    knn = KNeighborsClassifier(n_neighbors = k)\n",
        "    knn.fit(X_train, y_train)\n",
        "    scores.append(knn.score(X_test, y_test))\n",
        "print(scores)\n",
        "plt.style.use('classic')\n",
        "fig = plt.figure()\n",
        "plt.xlabel('k-Value')\n",
        "plt.ylabel('Accuracy %')\n",
        "plt.scatter(k_range, scores)\n",
        "plt.xticks([0,5,10,15,20]);\n",
        "plt.show();\n",
        "#plt.yticks([0.5,0.6,0.7,0.8,0.9,1])\n",
        "fig.savefig('my_figure.png')"
      ],
      "execution_count": null,
      "outputs": [
        {
          "output_type": "stream",
          "text": [
            "[0.9378531073446328, 0.9209039548022598, 0.9265536723163842, 0.9322033898305084, 0.9322033898305084, 0.9209039548022598, 0.9209039548022598, 0.9209039548022598, 0.9209039548022598, 0.9265536723163842, 0.9265536723163842, 0.9265536723163842, 0.9265536723163842, 0.9265536723163842, 0.9265536723163842, 0.9265536723163842, 0.9265536723163842, 0.9265536723163842, 0.9265536723163842]\n"
          ],
          "name": "stdout"
        },
        {
          "output_type": "display_data",
          "data": {
            "image/png": "[encoded data removed]",
            "text/plain": [
              "<Figure size 640x480 with 1 Axes>"
            ]
          },
          "metadata": {
            "tags": []
          }
        }
      ]
    }
  ]
}